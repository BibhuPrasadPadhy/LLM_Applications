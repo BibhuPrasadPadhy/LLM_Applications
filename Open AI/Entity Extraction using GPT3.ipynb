{
 "cells": [
  {
   "cell_type": "code",
   "execution_count": 2,
   "id": "adb21be9",
   "metadata": {},
   "outputs": [],
   "source": [
    "import os\n",
    "import openai\n",
    "import sk_key\n",
    "os.environ['OPENAI_API_KEY'] = sk_key.openai_key\n",
    "\n",
    "openai.api_key = os.getenv(\"OPENAI_API_KEY\")"
   ]
  },
  {
   "cell_type": "code",
   "execution_count": 9,
   "id": "85a0860c",
   "metadata": {},
   "outputs": [],
   "source": [
    "response = openai.Completion.create(\n",
    "  model=\"text-davinci-003\",\n",
    "  prompt=\"\"\"Extract entities and it's type from the below mentioned text(Return in the form of dictionary)\n",
    "            text: Delhi is the capital of India\n",
    "            Entities = \n",
    "            {\"Delhi\" : \"State\",\n",
    "            \"India\": \"Country\" }\n",
    "            \n",
    "            ##\n",
    "            According to The Economist, improved algorithms, powerful computers, and an increase in digitized data have\n",
    "            fueled a revolution in machine learning, with new techniques in the 2010s resulting in \"rapid improvements \n",
    "            in tasks\" including manipulating language.Software models are trained to learn by using thousands or\n",
    "            millions of examples in a structure ... loosely based on the neural architecture of the brain\".\n",
    "            One architecture used in natural language processing (NLP) is a neural network based on a deep learning model \n",
    "            that was first introduced in 2017—the transformer architecture.There are a number of NLP systems capable \n",
    "            of processing, mining, organizing, connecting and contrasting textual input, as well as correctly answering\n",
    "            questions.\"\"\",\n",
    "  temperature=1,\n",
    "  max_tokens=256,\n",
    "  top_p=1,\n",
    "  frequency_penalty=0,\n",
    "  presence_penalty=0\n",
    ")"
   ]
  },
  {
   "cell_type": "code",
   "execution_count": 11,
   "id": "5b835c04",
   "metadata": {},
   "outputs": [
    {
     "data": {
      "text/plain": [
       "'\\n            Entities = \\n            { \"The Economist\" : \"Organization\",\\n            \"machine learning\" : \"Noun\",\\n            \"2010s\" : \"Time\",\\n            \"neural architecture\" : \"Noun\",\\n            \"natural language processing\" : \"Noun\",\\n            \"NLP\" : \"Noun\",\\n            \"2017\" : \"Time\",\\n            \"transformer architecture\" : \"Noun\",\\n            \"NLP systems\" : \"Noun\" }'"
      ]
     },
     "execution_count": 11,
     "metadata": {},
     "output_type": "execute_result"
    }
   ],
   "source": [
    "response['choices'][0]['text']"
   ]
  },
  {
   "cell_type": "code",
   "execution_count": 3,
   "id": "229517d9",
   "metadata": {},
   "outputs": [],
   "source": [
    "response = openai.Completion.create(\n",
    "  model=\"text-davinci-003\",\n",
    "  prompt=\"Extract entities & it's type from the below mentioned text(Return a python dictionary object)\\ntext: Delhi is the capital of India\\nEntities:\\nDelhi : State\\nIndia: Country\\nSentiment: Neutral\\n\\n##\\nAccording to The Economist, improved algorithms, powerful computers, and an increase in digitized data have fueled a revolution in machine learning, with new techniques in the 2010s resulting in \\\"rapid improvements in tasks\\\" including manipulating language.Software models are trained to learn by using thousands or millions of examples in a \\\"structure ... loosely based on the neural architecture of the brain\\\".One architecture used in natural language processing (NLP) is a neural network based on a deep learning model that was first introduced in 2017—the transformer architecture.[7] There are a number of NLP systems capable of processing, mining, organizing, connecting and contrasting textual input, as well as correctly answering questions.\\n\\n\\n{'Delhi':'State', 'India':'Country', 'Sentiment':'Neutral'}\",\n",
    "  temperature=1,\n",
    "  max_tokens=256,\n",
    "  top_p=1,\n",
    "  frequency_penalty=0,\n",
    "  presence_penalty=0\n",
    ")"
   ]
  },
  {
   "cell_type": "code",
   "execution_count": null,
   "id": "4e613b46",
   "metadata": {},
   "outputs": [],
   "source": []
  }
 ],
 "metadata": {
  "kernelspec": {
   "display_name": "Python 3 (ipykernel)",
   "language": "python",
   "name": "python3"
  },
  "language_info": {
   "codemirror_mode": {
    "name": "ipython",
    "version": 3
   },
   "file_extension": ".py",
   "mimetype": "text/x-python",
   "name": "python",
   "nbconvert_exporter": "python",
   "pygments_lexer": "ipython3",
   "version": "3.9.17"
  }
 },
 "nbformat": 4,
 "nbformat_minor": 5
}
