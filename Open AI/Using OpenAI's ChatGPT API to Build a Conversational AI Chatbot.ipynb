{
 "cells": [
  {
   "cell_type": "code",
   "execution_count": null,
   "id": "f35673eb",
   "metadata": {},
   "outputs": [],
   "source": [
    "import os\n",
    "import openai\n",
    "import sk_key\n",
    "os.environ['OPENAI_API_KEY'] = sk_key.openai_key\n",
    "\n",
    "openai.api_key = os.getenv(\"OPENAI_API_KEY\")"
   ]
  },
  {
   "cell_type": "code",
   "execution_count": null,
   "id": "6fb6969e",
   "metadata": {},
   "outputs": [],
   "source": [
    "messages=[\n",
    "        {\"role\": \"system\", \"content\": \"You are a helpful AI Tutor.\"},\n",
    "        {\"role\": \"user\", \"content\": \"I am Pradip, I want to learn AI\"},\n",
    "        {\"role\": \"assistant\", \"content\": \"Hello, Pradip Thats awesome, what do you want to know aboout AI\"},\n",
    "        {\"role\": \"user\", \"content\": \"What is NLP?\"}\n",
    "    ]"
   ]
  },
  {
   "cell_type": "code",
   "execution_count": null,
   "id": "8701d020",
   "metadata": {},
   "outputs": [],
   "source": [
    "def update_chat(messages, role, content):\n",
    "    messages.append({\"role\": role, \"content\": content})\n",
    "    return messages"
   ]
  },
  {
   "cell_type": "code",
   "execution_count": null,
   "id": "fd750a82",
   "metadata": {},
   "outputs": [],
   "source": [
    "def get_chatgpt_response(messages):\n",
    "    response = openai.ChatCompletion.create(model=\"gpt-3.5-turbo\",messages=messages)\n",
    "    return  response['choices'][0]['message']['content']"
   ]
  },
  {
   "cell_type": "code",
   "execution_count": null,
   "id": "4aa5be3c",
   "metadata": {},
   "outputs": [],
   "source": [
    "import pprint\n",
    "\n",
    "messages=[\n",
    "      {\"role\": \"system\", \"content\": \"You are a helpful AI Tutor.\"},\n",
    "      {\"role\": \"user\", \"content\": \"I am Pradip, I want to learn AI\"},\n",
    "      {\"role\": \"assistant\", \"content\": \"Hello, Pradip Thats awesome, what do you want to know aboout AI\"},\n",
    "  ]\n",
    "\n",
    "while True:\n",
    "    pprint.pprint(messages)\n",
    "    user_input = input()\n",
    "    messages = update_chat(messages, \"user\", user_input)\n",
    "    model_response = get_chatgpt_response(messages)\n",
    "    messages = update_chat(messages, \"assistant\", model_response)"
   ]
  },
  {
   "cell_type": "code",
   "execution_count": null,
   "id": "c46b7b56",
   "metadata": {},
   "outputs": [],
   "source": []
  }
 ],
 "metadata": {
  "kernelspec": {
   "display_name": "Python 3 (ipykernel)",
   "language": "python",
   "name": "python3"
  },
  "language_info": {
   "codemirror_mode": {
    "name": "ipython",
    "version": 3
   },
   "file_extension": ".py",
   "mimetype": "text/x-python",
   "name": "python",
   "nbconvert_exporter": "python",
   "pygments_lexer": "ipython3",
   "version": "3.9.17"
  }
 },
 "nbformat": 4,
 "nbformat_minor": 5
}
