{
 "cells": [
  {
   "cell_type": "code",
   "execution_count": 3,
   "id": "b80378e5",
   "metadata": {},
   "outputs": [],
   "source": [
    "import os\n",
    "import openai\n",
    "import sk_key\n",
    "os.environ['OPENAI_API_KEY'] = sk_key.openai_key\n",
    "\n",
    "openai.api_key = os.getenv(\"OPENAI_API_KEY\")"
   ]
  },
  {
   "cell_type": "code",
   "execution_count": 4,
   "id": "98dada1b",
   "metadata": {},
   "outputs": [],
   "source": [
    "response = openai.Completion.create(\n",
    "  model=\"text-davinci-003\",\n",
    "  prompt=\"\"\"Extract Aspect Opinion Pairs from the text:\n",
    "  \n",
    "            Rooms are quite good but service is pathetic. Front office staff are not customer friendly they cheat you if you requesting for early check in also they sell you super deluxe room in spite of rooms is partially sold out. Not value for money\n",
    "            Positive- \n",
    "            Rooms: quite good\n",
    "            \n",
    "            Negative-\n",
    "            Service: pathetic \n",
    "            Front office staff: not customer friendly, cheat \n",
    "            Value for money: not value for money\n",
    "            \n",
    "            ##\n",
    "            bad experience with this from the moment it received . mobile hangs and slow while the initial startup . device not working properly and restarts several times automatically . app clone not working and i have the apps in my mobile it mentioned in the app clone but it doesn ' t showing anything to clone . normal whatsapp chat drive backup not working . . . my old whatsapp backups are gone 😡 😡 😡 . very bad and worst experience with oneplus\n",
    "            Negative-\n",
    "            Mobile: hangs, slow, not working properly, restarts automatically\n",
    "            App clone: not working\\n- Whatsapp chat drive backup: not working\n",
    "            Experience: bad, worst\n",
    "            \n",
    "            ##\n",
    "            Another beauty from Apple. I was upgraded from iPhone X and it was great experience with all the latest specs and flawlessly smooth. Thanks to all new A14 Bionic chip. Build quality was great as always from Apple. Phone feels light on hands due to aluminium body. I chose Blue colour because wanted to go for different colour than routine Black and white iPhones so initially I was bit skeptical but after seeing the phone in person I’m happy with the blue colour “ not bad at all and not too flashy” Grip and feel perfect. Phone comes with iOS 14.1. Camera quality was excellent and sufficient as a normal user.\"\"\",\n",
    "  temperature=0,\n",
    "  max_tokens=256,\n",
    "  top_p=1,\n",
    "  frequency_penalty=0,\n",
    "  presence_penalty=0\n",
    ")"
   ]
  },
  {
   "cell_type": "code",
   "execution_count": 9,
   "id": "ad0cee92",
   "metadata": {},
   "outputs": [
    {
     "name": "stdout",
     "output_type": "stream",
     "text": [
      "\n",
      "\n",
      "Positive-\n",
      "iPhone: great experience, latest specs, flawlessly smooth, great build quality, light on hands, blue colour not bad and not too flashy, grip and feel perfect, excellent camera quality\n",
      "A14 Bionic chip: thanks to all new A14 Bionic chip\n"
     ]
    }
   ],
   "source": [
    "print(response['choices'][0]['text'])"
   ]
  },
  {
   "cell_type": "code",
   "execution_count": null,
   "id": "703b78d7",
   "metadata": {},
   "outputs": [],
   "source": []
  }
 ],
 "metadata": {
  "kernelspec": {
   "display_name": "Python 3 (ipykernel)",
   "language": "python",
   "name": "python3"
  },
  "language_info": {
   "codemirror_mode": {
    "name": "ipython",
    "version": 3
   },
   "file_extension": ".py",
   "mimetype": "text/x-python",
   "name": "python",
   "nbconvert_exporter": "python",
   "pygments_lexer": "ipython3",
   "version": "3.9.17"
  }
 },
 "nbformat": 4,
 "nbformat_minor": 5
}
